{
 "cells": [
  {
   "cell_type": "markdown",
   "metadata": {},
   "source": [
    "# Costa Rican Household Poverty Prediction\n",
    "\n",
    "### Objective\n",
    "\n",
    "Many social programs have a hard time making sure the right people are given enough aid. It’s especially tricky when a program focuses on the poorest segment of the population. The world’s poorest typically can’t provide the necessary income and expense records to prove that they qualify.\n",
    "The objective is to establish new algorithms which correctly identifies economic conditions of a household so that proper resources are made available to them. Dataset used for this problem contains Costa Rican household characteristics.\n",
    "\n",
    "### Problem Description\n",
    "\n",
    "This is a supervised multi-class classification machine learning problem:\n",
    "\n",
    "1. *Supervised*: provided with the labels for the training data\n",
    "2. *Multi-class classification*: Labels are discrete values with 4 classes\n",
    "\n",
    "Dataset can be downloaded from [here](https://www.kaggle.com/c/costa-rican-household-poverty-prediction/data). For more details, check the Kaggle description [here](https://www.kaggle.com/c/costa-rican-household-poverty-prediction)."
   ]
  },
  {
   "cell_type": "code",
   "execution_count": 34,
   "metadata": {
    "_uuid": "a6c93c136402fe987beb8f356cf168c8b67ef389"
   },
   "outputs": [],
   "source": [
    "%matplotlib inline\n",
    "\n",
    "import os\n",
    "import pandas as pd\n",
    "import numpy as np\n",
    "import seaborn as sns\n",
    "\n",
    "from sklearn.preprocessing import MinMaxScaler\n",
    "from sklearn.impute import SimpleImputer\n",
    "from matplotlib import pyplot as plt"
   ]
  },
  {
   "cell_type": "code",
   "execution_count": 35,
   "metadata": {
    "_uuid": "f12fc720aa2514565c2179363238b5a4e4fb06d2"
   },
   "outputs": [
    {
     "name": "stdout",
     "output_type": "stream",
     "text": [
      "Training dataset basic information\n",
      "Rows: 9557\n",
      "Columns: 143\n"
     ]
    },
    {
     "data": {
      "text/html": [
       "<div>\n",
       "<style scoped>\n",
       "    .dataframe tbody tr th:only-of-type {\n",
       "        vertical-align: middle;\n",
       "    }\n",
       "\n",
       "    .dataframe tbody tr th {\n",
       "        vertical-align: top;\n",
       "    }\n",
       "\n",
       "    .dataframe thead th {\n",
       "        text-align: right;\n",
       "    }\n",
       "</style>\n",
       "<table border=\"1\" class=\"dataframe\">\n",
       "  <thead>\n",
       "    <tr style=\"text-align: right;\">\n",
       "      <th></th>\n",
       "      <th>Id</th>\n",
       "      <th>v2a1</th>\n",
       "      <th>hacdor</th>\n",
       "      <th>rooms</th>\n",
       "      <th>hacapo</th>\n",
       "      <th>v14a</th>\n",
       "      <th>refrig</th>\n",
       "      <th>v18q</th>\n",
       "      <th>v18q1</th>\n",
       "      <th>r4h1</th>\n",
       "      <th>...</th>\n",
       "      <th>SQBescolari</th>\n",
       "      <th>SQBage</th>\n",
       "      <th>SQBhogar_total</th>\n",
       "      <th>SQBedjefe</th>\n",
       "      <th>SQBhogar_nin</th>\n",
       "      <th>SQBovercrowding</th>\n",
       "      <th>SQBdependency</th>\n",
       "      <th>SQBmeaned</th>\n",
       "      <th>agesq</th>\n",
       "      <th>Target</th>\n",
       "    </tr>\n",
       "  </thead>\n",
       "  <tbody>\n",
       "    <tr>\n",
       "      <th>0</th>\n",
       "      <td>ID_279628684</td>\n",
       "      <td>190000.0</td>\n",
       "      <td>0</td>\n",
       "      <td>3</td>\n",
       "      <td>0</td>\n",
       "      <td>1</td>\n",
       "      <td>1</td>\n",
       "      <td>0</td>\n",
       "      <td>NaN</td>\n",
       "      <td>0</td>\n",
       "      <td>...</td>\n",
       "      <td>100</td>\n",
       "      <td>1849</td>\n",
       "      <td>1</td>\n",
       "      <td>100</td>\n",
       "      <td>0</td>\n",
       "      <td>1.000000</td>\n",
       "      <td>0.0</td>\n",
       "      <td>100.0</td>\n",
       "      <td>1849</td>\n",
       "      <td>4</td>\n",
       "    </tr>\n",
       "    <tr>\n",
       "      <th>1</th>\n",
       "      <td>ID_f29eb3ddd</td>\n",
       "      <td>135000.0</td>\n",
       "      <td>0</td>\n",
       "      <td>4</td>\n",
       "      <td>0</td>\n",
       "      <td>1</td>\n",
       "      <td>1</td>\n",
       "      <td>1</td>\n",
       "      <td>1.0</td>\n",
       "      <td>0</td>\n",
       "      <td>...</td>\n",
       "      <td>144</td>\n",
       "      <td>4489</td>\n",
       "      <td>1</td>\n",
       "      <td>144</td>\n",
       "      <td>0</td>\n",
       "      <td>1.000000</td>\n",
       "      <td>64.0</td>\n",
       "      <td>144.0</td>\n",
       "      <td>4489</td>\n",
       "      <td>4</td>\n",
       "    </tr>\n",
       "    <tr>\n",
       "      <th>2</th>\n",
       "      <td>ID_68de51c94</td>\n",
       "      <td>NaN</td>\n",
       "      <td>0</td>\n",
       "      <td>8</td>\n",
       "      <td>0</td>\n",
       "      <td>1</td>\n",
       "      <td>1</td>\n",
       "      <td>0</td>\n",
       "      <td>NaN</td>\n",
       "      <td>0</td>\n",
       "      <td>...</td>\n",
       "      <td>121</td>\n",
       "      <td>8464</td>\n",
       "      <td>1</td>\n",
       "      <td>0</td>\n",
       "      <td>0</td>\n",
       "      <td>0.250000</td>\n",
       "      <td>64.0</td>\n",
       "      <td>121.0</td>\n",
       "      <td>8464</td>\n",
       "      <td>4</td>\n",
       "    </tr>\n",
       "    <tr>\n",
       "      <th>3</th>\n",
       "      <td>ID_d671db89c</td>\n",
       "      <td>180000.0</td>\n",
       "      <td>0</td>\n",
       "      <td>5</td>\n",
       "      <td>0</td>\n",
       "      <td>1</td>\n",
       "      <td>1</td>\n",
       "      <td>1</td>\n",
       "      <td>1.0</td>\n",
       "      <td>0</td>\n",
       "      <td>...</td>\n",
       "      <td>81</td>\n",
       "      <td>289</td>\n",
       "      <td>16</td>\n",
       "      <td>121</td>\n",
       "      <td>4</td>\n",
       "      <td>1.777778</td>\n",
       "      <td>1.0</td>\n",
       "      <td>121.0</td>\n",
       "      <td>289</td>\n",
       "      <td>4</td>\n",
       "    </tr>\n",
       "    <tr>\n",
       "      <th>4</th>\n",
       "      <td>ID_d56d6f5f5</td>\n",
       "      <td>180000.0</td>\n",
       "      <td>0</td>\n",
       "      <td>5</td>\n",
       "      <td>0</td>\n",
       "      <td>1</td>\n",
       "      <td>1</td>\n",
       "      <td>1</td>\n",
       "      <td>1.0</td>\n",
       "      <td>0</td>\n",
       "      <td>...</td>\n",
       "      <td>121</td>\n",
       "      <td>1369</td>\n",
       "      <td>16</td>\n",
       "      <td>121</td>\n",
       "      <td>4</td>\n",
       "      <td>1.777778</td>\n",
       "      <td>1.0</td>\n",
       "      <td>121.0</td>\n",
       "      <td>1369</td>\n",
       "      <td>4</td>\n",
       "    </tr>\n",
       "  </tbody>\n",
       "</table>\n",
       "<p>5 rows × 143 columns</p>\n",
       "</div>"
      ],
      "text/plain": [
       "             Id      v2a1  hacdor  rooms  hacapo  v14a  refrig  v18q  v18q1  \\\n",
       "0  ID_279628684  190000.0       0      3       0     1       1     0    NaN   \n",
       "1  ID_f29eb3ddd  135000.0       0      4       0     1       1     1    1.0   \n",
       "2  ID_68de51c94       NaN       0      8       0     1       1     0    NaN   \n",
       "3  ID_d671db89c  180000.0       0      5       0     1       1     1    1.0   \n",
       "4  ID_d56d6f5f5  180000.0       0      5       0     1       1     1    1.0   \n",
       "\n",
       "   r4h1   ...    SQBescolari  SQBage  SQBhogar_total  SQBedjefe  SQBhogar_nin  \\\n",
       "0     0   ...            100    1849               1        100             0   \n",
       "1     0   ...            144    4489               1        144             0   \n",
       "2     0   ...            121    8464               1          0             0   \n",
       "3     0   ...             81     289              16        121             4   \n",
       "4     0   ...            121    1369              16        121             4   \n",
       "\n",
       "   SQBovercrowding  SQBdependency  SQBmeaned  agesq  Target  \n",
       "0         1.000000            0.0      100.0   1849       4  \n",
       "1         1.000000           64.0      144.0   4489       4  \n",
       "2         0.250000           64.0      121.0   8464       4  \n",
       "3         1.777778            1.0      121.0    289       4  \n",
       "4         1.777778            1.0      121.0   1369       4  \n",
       "\n",
       "[5 rows x 143 columns]"
      ]
     },
     "execution_count": 35,
     "metadata": {},
     "output_type": "execute_result"
    }
   ],
   "source": [
    "# To remove the limit on the number of rows displayed by pandas\n",
    "pd.set_option(\"display.max_rows\", None)\n",
    "\n",
    "# Read csv files in pandas dataframe\n",
    "testDf = pd.read_csv('../input/test.csv')\n",
    "trainDf = pd.read_csv('../input/train.csv')\n",
    "print(\"Training dataset basic information\")\n",
    "print(\"Rows: {}\".format(len(trainDf)))\n",
    "print(\"Columns: {}\".format(len(trainDf.columns)))\n",
    "trainDf.head()"
   ]
  },
  {
   "cell_type": "code",
   "execution_count": 36,
   "metadata": {
    "_uuid": "ac474022d02b916f956c114aa890e4062c367ffc"
   },
   "outputs": [
    {
     "name": "stdout",
     "output_type": "stream",
     "text": [
      "Test dataset basic information\n",
      "Rows: 23856\n",
      "Columns: 142\n"
     ]
    },
    {
     "data": {
      "text/html": [
       "<div>\n",
       "<style scoped>\n",
       "    .dataframe tbody tr th:only-of-type {\n",
       "        vertical-align: middle;\n",
       "    }\n",
       "\n",
       "    .dataframe tbody tr th {\n",
       "        vertical-align: top;\n",
       "    }\n",
       "\n",
       "    .dataframe thead th {\n",
       "        text-align: right;\n",
       "    }\n",
       "</style>\n",
       "<table border=\"1\" class=\"dataframe\">\n",
       "  <thead>\n",
       "    <tr style=\"text-align: right;\">\n",
       "      <th></th>\n",
       "      <th>Id</th>\n",
       "      <th>v2a1</th>\n",
       "      <th>hacdor</th>\n",
       "      <th>rooms</th>\n",
       "      <th>hacapo</th>\n",
       "      <th>v14a</th>\n",
       "      <th>refrig</th>\n",
       "      <th>v18q</th>\n",
       "      <th>v18q1</th>\n",
       "      <th>r4h1</th>\n",
       "      <th>...</th>\n",
       "      <th>age</th>\n",
       "      <th>SQBescolari</th>\n",
       "      <th>SQBage</th>\n",
       "      <th>SQBhogar_total</th>\n",
       "      <th>SQBedjefe</th>\n",
       "      <th>SQBhogar_nin</th>\n",
       "      <th>SQBovercrowding</th>\n",
       "      <th>SQBdependency</th>\n",
       "      <th>SQBmeaned</th>\n",
       "      <th>agesq</th>\n",
       "    </tr>\n",
       "  </thead>\n",
       "  <tbody>\n",
       "    <tr>\n",
       "      <th>0</th>\n",
       "      <td>ID_2f6873615</td>\n",
       "      <td>NaN</td>\n",
       "      <td>0</td>\n",
       "      <td>5</td>\n",
       "      <td>0</td>\n",
       "      <td>1</td>\n",
       "      <td>1</td>\n",
       "      <td>0</td>\n",
       "      <td>NaN</td>\n",
       "      <td>1</td>\n",
       "      <td>...</td>\n",
       "      <td>4</td>\n",
       "      <td>0</td>\n",
       "      <td>16</td>\n",
       "      <td>9</td>\n",
       "      <td>0</td>\n",
       "      <td>1</td>\n",
       "      <td>2.25</td>\n",
       "      <td>0.25</td>\n",
       "      <td>272.25</td>\n",
       "      <td>16</td>\n",
       "    </tr>\n",
       "    <tr>\n",
       "      <th>1</th>\n",
       "      <td>ID_1c78846d2</td>\n",
       "      <td>NaN</td>\n",
       "      <td>0</td>\n",
       "      <td>5</td>\n",
       "      <td>0</td>\n",
       "      <td>1</td>\n",
       "      <td>1</td>\n",
       "      <td>0</td>\n",
       "      <td>NaN</td>\n",
       "      <td>1</td>\n",
       "      <td>...</td>\n",
       "      <td>41</td>\n",
       "      <td>256</td>\n",
       "      <td>1681</td>\n",
       "      <td>9</td>\n",
       "      <td>0</td>\n",
       "      <td>1</td>\n",
       "      <td>2.25</td>\n",
       "      <td>0.25</td>\n",
       "      <td>272.25</td>\n",
       "      <td>1681</td>\n",
       "    </tr>\n",
       "    <tr>\n",
       "      <th>2</th>\n",
       "      <td>ID_e5442cf6a</td>\n",
       "      <td>NaN</td>\n",
       "      <td>0</td>\n",
       "      <td>5</td>\n",
       "      <td>0</td>\n",
       "      <td>1</td>\n",
       "      <td>1</td>\n",
       "      <td>0</td>\n",
       "      <td>NaN</td>\n",
       "      <td>1</td>\n",
       "      <td>...</td>\n",
       "      <td>41</td>\n",
       "      <td>289</td>\n",
       "      <td>1681</td>\n",
       "      <td>9</td>\n",
       "      <td>0</td>\n",
       "      <td>1</td>\n",
       "      <td>2.25</td>\n",
       "      <td>0.25</td>\n",
       "      <td>272.25</td>\n",
       "      <td>1681</td>\n",
       "    </tr>\n",
       "    <tr>\n",
       "      <th>3</th>\n",
       "      <td>ID_a8db26a79</td>\n",
       "      <td>NaN</td>\n",
       "      <td>0</td>\n",
       "      <td>14</td>\n",
       "      <td>0</td>\n",
       "      <td>1</td>\n",
       "      <td>1</td>\n",
       "      <td>1</td>\n",
       "      <td>1.0</td>\n",
       "      <td>0</td>\n",
       "      <td>...</td>\n",
       "      <td>59</td>\n",
       "      <td>256</td>\n",
       "      <td>3481</td>\n",
       "      <td>1</td>\n",
       "      <td>256</td>\n",
       "      <td>0</td>\n",
       "      <td>1.00</td>\n",
       "      <td>0.00</td>\n",
       "      <td>256.00</td>\n",
       "      <td>3481</td>\n",
       "    </tr>\n",
       "    <tr>\n",
       "      <th>4</th>\n",
       "      <td>ID_a62966799</td>\n",
       "      <td>175000.0</td>\n",
       "      <td>0</td>\n",
       "      <td>4</td>\n",
       "      <td>0</td>\n",
       "      <td>1</td>\n",
       "      <td>1</td>\n",
       "      <td>1</td>\n",
       "      <td>1.0</td>\n",
       "      <td>0</td>\n",
       "      <td>...</td>\n",
       "      <td>18</td>\n",
       "      <td>121</td>\n",
       "      <td>324</td>\n",
       "      <td>1</td>\n",
       "      <td>0</td>\n",
       "      <td>1</td>\n",
       "      <td>0.25</td>\n",
       "      <td>64.00</td>\n",
       "      <td>NaN</td>\n",
       "      <td>324</td>\n",
       "    </tr>\n",
       "  </tbody>\n",
       "</table>\n",
       "<p>5 rows × 142 columns</p>\n",
       "</div>"
      ],
      "text/plain": [
       "             Id      v2a1  hacdor  rooms  hacapo  v14a  refrig  v18q  v18q1  \\\n",
       "0  ID_2f6873615       NaN       0      5       0     1       1     0    NaN   \n",
       "1  ID_1c78846d2       NaN       0      5       0     1       1     0    NaN   \n",
       "2  ID_e5442cf6a       NaN       0      5       0     1       1     0    NaN   \n",
       "3  ID_a8db26a79       NaN       0     14       0     1       1     1    1.0   \n",
       "4  ID_a62966799  175000.0       0      4       0     1       1     1    1.0   \n",
       "\n",
       "   r4h1  ...    age  SQBescolari  SQBage  SQBhogar_total  SQBedjefe  \\\n",
       "0     1  ...      4            0      16               9          0   \n",
       "1     1  ...     41          256    1681               9          0   \n",
       "2     1  ...     41          289    1681               9          0   \n",
       "3     0  ...     59          256    3481               1        256   \n",
       "4     0  ...     18          121     324               1          0   \n",
       "\n",
       "   SQBhogar_nin  SQBovercrowding  SQBdependency  SQBmeaned  agesq  \n",
       "0             1             2.25           0.25     272.25     16  \n",
       "1             1             2.25           0.25     272.25   1681  \n",
       "2             1             2.25           0.25     272.25   1681  \n",
       "3             0             1.00           0.00     256.00   3481  \n",
       "4             1             0.25          64.00        NaN    324  \n",
       "\n",
       "[5 rows x 142 columns]"
      ]
     },
     "execution_count": 36,
     "metadata": {},
     "output_type": "execute_result"
    }
   ],
   "source": [
    "print(\"Test dataset basic information\")\n",
    "print(\"Rows: {}\".format(len(testDf)))\n",
    "print(\"Columns: {}\".format(len(testDf.columns)))\n",
    "testDf.head()"
   ]
  },
  {
   "cell_type": "code",
   "execution_count": 37,
   "metadata": {
    "_uuid": "247875e5b353522dc8184b8d9e8ec9a0af49aa0c"
   },
   "outputs": [],
   "source": [
    "# Add null Target column to test\n",
    "testDf['Target'] = np.nan\n",
    "data = trainDf.append(testDf, ignore_index = True)"
   ]
  },
  {
   "cell_type": "markdown",
   "metadata": {
    "_uuid": "564bee57d7bb506335a2bf84ce64da7f235e05bf"
   },
   "source": [
    "### 1. Find and fix missing feature values"
   ]
  },
  {
   "cell_type": "code",
   "execution_count": 38,
   "metadata": {
    "_uuid": "c705dc8a74a77a28131fbe8a71e77b94b605ce13"
   },
   "outputs": [
    {
     "name": "stdout",
     "output_type": "stream",
     "text": [
      "Analysis of training dataset...\n",
      "Number of columns with Nan: 5\n",
      "Column names: Index(['v2a1', 'v18q1', 'rez_esc', 'meaneduc', 'SQBmeaned'], dtype='object')\n",
      "--------------------------------------------------------------------------------\n",
      "Column: [v2a1] missing 6860 values.\n",
      "Column: [v18q1] missing 7342 values.\n",
      "Column: [rez_esc] missing 7928 values.\n",
      "Column: [meaneduc] missing 5 values.\n",
      "Column: [SQBmeaned] missing 5 values.\n"
     ]
    }
   ],
   "source": [
    "# 1. Find missing values in training and test dataset\n",
    "def findColumnsWithNan(df):\n",
    "    cols = df.columns[df.isna().any()]\n",
    "    print(\"Number of columns with Nan: {}\".format(len(cols)))\n",
    "    print(\"Column names: {}\".format(cols))\n",
    "    print(\"-\" * 80)\n",
    "    for col in cols:\n",
    "        print(\"Column: [{}] missing {} values.\".format(col, len(df[df[col].isna() == True])))\n",
    "\n",
    "print(\"Analysis of training dataset...\")\n",
    "findColumnsWithNan(trainDf)"
   ]
  },
  {
   "cell_type": "code",
   "execution_count": 39,
   "metadata": {
    "_uuid": "184be6479eee5a9350d5b8a3c6f33be7a4bfd19e"
   },
   "outputs": [
    {
     "name": "stdout",
     "output_type": "stream",
     "text": [
      "\n",
      "Analysis of test dataset...\n",
      "Number of columns with Nan: 6\n",
      "Column names: Index(['v2a1', 'v18q1', 'rez_esc', 'meaneduc', 'SQBmeaned', 'Target'], dtype='object')\n",
      "--------------------------------------------------------------------------------\n",
      "Column: [v2a1] missing 17403 values.\n",
      "Column: [v18q1] missing 18126 values.\n",
      "Column: [rez_esc] missing 19653 values.\n",
      "Column: [meaneduc] missing 31 values.\n",
      "Column: [SQBmeaned] missing 31 values.\n",
      "Column: [Target] missing 23856 values.\n"
     ]
    }
   ],
   "source": [
    "print()\n",
    "print(\"Analysis of test dataset...\")\n",
    "findColumnsWithNan(testDf)"
   ]
  },
  {
   "cell_type": "markdown",
   "metadata": {
    "_uuid": "b77aa532bb952be3b00feddfa8de04b1b04e5232"
   },
   "source": [
    "#### 1.1. Fix missing values of v2a1 \n",
    "It means Monthly rent payment. To find what Nan means, v2a1 is compared with 'tipovivi' feature which gives information whether the house is rented/completely paid off etc. <br>\n",
    "\n",
    "tipovivi1 =1 own and fully paid house <br>\n",
    "tipovivi2 =1 own,  paying in installments\" <br>\n",
    "tipovivi3 =1 rented <br>\n",
    "tipovivi4 =1 precarious <br>\n",
    "tipovivi5 =1 other(assigned,  borrowed)\" <br>\n",
    "\n",
    "'v2a1' is replaced with 0, wherever tipovivi1=1, and all other missing values are left which will be imputed later. This means that if the house is fully owned by household then they don't pay any rent."
   ]
  },
  {
   "cell_type": "code",
   "execution_count": 40,
   "metadata": {
    "_uuid": "497cdf28a2a99d0d6953c0104a3f79b99f460070"
   },
   "outputs": [
    {
     "name": "stdout",
     "output_type": "stream",
     "text": [
      "Missing values after replacing: 3419\n"
     ]
    }
   ],
   "source": [
    "data.loc[(data['tipovivi1'] == 1) & (data['v2a1'].isna()), 'v2a1'] = 0\n",
    "print(\"Missing values after replacing: {}\".format(len(data.loc[data['v2a1'].isna()])))"
   ]
  },
  {
   "cell_type": "markdown",
   "metadata": {
    "_uuid": "5181716bf3bdcc1b27b1fdd339104a5874b579fd"
   },
   "source": [
    "#### 1.2. Fix missing values of v18q1\n",
    "It means number of tablets household owns. After careful analysis of household members, it can concluded that NaN means household does not own a tablet. We replace NaN with 0."
   ]
  },
  {
   "cell_type": "code",
   "execution_count": 41,
   "metadata": {
    "_uuid": "0f83b39a0513ba6a44041d35e37e6ed4c32f6267"
   },
   "outputs": [
    {
     "name": "stdout",
     "output_type": "stream",
     "text": [
      "Missing values after replacing: 0\n"
     ]
    }
   ],
   "source": [
    "data.loc[data['v18q1'].isna(), 'v18q1'] = 0\n",
    "print(\"Missing values after replacing: {}\".format(len(data.loc[data['v18q1'].isna()])))"
   ]
  },
  {
   "cell_type": "markdown",
   "metadata": {
    "_uuid": "ff28ab169629451f25edc2409fa3d49e1e6bbffe"
   },
   "source": [
    "#### 1.3 Fix missing values of rez_esc\n",
    "It means years behind in school. From the discussions on Kaggle, it can be concluded that this value is defined only for people whose age is between 7 and 19. So the missing values can be updated to 0 using this criteria. Age of an individual is in the column appropriately named 'age'."
   ]
  },
  {
   "cell_type": "code",
   "execution_count": 42,
   "metadata": {
    "_uuid": "69a88d48ef5a8391c4498a143226f37a692666ec"
   },
   "outputs": [
    {
     "name": "stdout",
     "output_type": "stream",
     "text": [
      "Missing values after replacing: 1161\n"
     ]
    }
   ],
   "source": [
    "data.loc[(data['age'] < 7) & (data['rez_esc'].isna()), 'rez_esc'] = 0\n",
    "data.loc[(data['age'] > 19) & (data['rez_esc'].isna()), 'rez_esc'] = 0\n",
    "print(\"Missing values after replacing: {}\".format(len(data.loc[data['rez_esc'].isna()])))"
   ]
  },
  {
   "cell_type": "markdown",
   "metadata": {
    "_uuid": "e6633f73c88ea57a61e713f73b0949f5bf614a6c"
   },
   "source": [
    "#### 1.4 Fix missing values of meaneduc\n",
    "It means average years of education for adults (18+). This implies that if the age of an individual is less than 18 and the value is NaN, then we can replace it with 0. Other NaN are left to be imputed."
   ]
  },
  {
   "cell_type": "code",
   "execution_count": 43,
   "metadata": {
    "_uuid": "59917077bec73878d3a687deb72eb64e3e82d400"
   },
   "outputs": [
    {
     "name": "stdout",
     "output_type": "stream",
     "text": [
      "Missing values after replacing: 35\n"
     ]
    }
   ],
   "source": [
    "data.loc[data['age'] < 19 & data['meaneduc'].isna(), 'meaneduc'] = 0\n",
    "print(\"Missing values after replacing: {}\".format(len(data.loc[data['meaneduc'].isna()])))"
   ]
  },
  {
   "cell_type": "markdown",
   "metadata": {
    "_uuid": "7624cc8d5e481a5b5287916a6e146bc4266dd5e7"
   },
   "source": [
    "#### 1.5 Fix missing values of SQBmeaned\n",
    "It means square of the mean years of education of adults (>=18) in the household. It is highly correlated with feature 'age' and there is no real need of it. Hence, this feature is dropped from the dataset."
   ]
  },
  {
   "cell_type": "code",
   "execution_count": 44,
   "metadata": {
    "_uuid": "11e95b1cfba125f988bca316c71d6dc9cdb67ef8"
   },
   "outputs": [
    {
     "name": "stdout",
     "output_type": "stream",
     "text": [
      "Total number of columns left: 142\n"
     ]
    }
   ],
   "source": [
    "data.drop('SQBmeaned', inplace=True, axis=1)\n",
    "print(\"Total number of columns left: {}\".format(len(data.columns)))"
   ]
  },
  {
   "cell_type": "markdown",
   "metadata": {
    "_uuid": "814123fc3a0363a15b5f05f6711142b112662a0f"
   },
   "source": [
    "### 2. Find outliers\n",
    "Inter-quartile range(IQR) is used to identify outliers in the dataset. IQR is the difference between the 75th and 25th percentile of the data. It is measure of dispersion along the lines of standard deviation. During this analysis, features were found which had incosistent values like integer and boolean string (yes/no) mixed together. These needs to be removed and is the main focus of the next step."
   ]
  },
  {
   "cell_type": "code",
   "execution_count": 45,
   "metadata": {
    "_uuid": "07b11b9d3e1a043fda6ea0ce441f9b6cf6337539"
   },
   "outputs": [],
   "source": [
    "for cols in data.columns[1:]:\n",
    "    if cols in ['idhogar', 'dependency', 'edjefe', 'edjefa']:\n",
    "        continue\n",
    "    percentile75 = np.percentile(data[cols].fillna(0), 75)\n",
    "    percentile25 = np.percentile(data[cols].fillna(0), 25)\n",
    "    threshold = (percentile75 - percentile25) * 1.5\n",
    "    lower, upper = (percentile25 - threshold), (percentile75 + threshold)\n",
    "    # identify outliers\n",
    "    outliers = data.loc[(data[cols] < lower) & (data[cols] > upper)]\n",
    "    if len(outliers) > 0:\n",
    "        print('Feature: {}. Identified outliers: {}'.format(cols, len(outliers)))"
   ]
  },
  {
   "cell_type": "markdown",
   "metadata": {
    "_uuid": "ddf695e450561151e298c2d7172d69614c64a2cb"
   },
   "source": [
    "### 3. Find incosistent values\n",
    "When finding outliers, following three features ('dependency', 'edjefe', 'edjefa') were found to have incosistent values. To take care of this, 'yes' is replaced with 1 and 'no' is replaced with 0. Also, to make sure each value in the feature are of the same data type, features are converted to float."
   ]
  },
  {
   "cell_type": "code",
   "execution_count": 46,
   "metadata": {
    "_uuid": "425769a1c6dbc5556b67866cd7f6d10f8a4c0ed8"
   },
   "outputs": [],
   "source": [
    "for col in ['dependency', 'edjefe', 'edjefa']:\n",
    "    data.loc[data[col] == 'yes', col] = 1.0\n",
    "    data.loc[data[col] == 'no', col] = 0.0\n",
    "    data[col] = pd.to_numeric(data[col])"
   ]
  },
  {
   "cell_type": "markdown",
   "metadata": {
    "_uuid": "8a78f9d59d4725457496eb1d0a33ad8496141c9c"
   },
   "source": [
    "### 4. Remove correlated features\n",
    "Highly correlated feature pairs are redundant, one of the pairs is selected to be removed."
   ]
  },
  {
   "cell_type": "code",
   "execution_count": 47,
   "metadata": {
    "_uuid": "edcac70dc1afe87c61c71893b41a3b194b498ac1"
   },
   "outputs": [
    {
     "data": {
      "text/plain": [
       "<matplotlib.axes._subplots.AxesSubplot at 0x211ae8fbdd8>"
      ]
     },
     "execution_count": 47,
     "metadata": {},
     "output_type": "execute_result"
    },
    {
     "data": {
      "image/png": "[encoded data removed]",
      "text/plain": [
       "<Figure size 2160x720 with 2 Axes>"
      ]
     },
     "metadata": {
      "needs_background": "light"
     },
     "output_type": "display_data"
    }
   ],
   "source": [
    "corrMat = data.corr()\n",
    "plt.figure(figsize=(30, 10))\n",
    "sns.heatmap(corrMat.iloc[:10, :10])"
   ]
  },
  {
   "cell_type": "code",
   "execution_count": 48,
   "metadata": {
    "_uuid": "6a1385d08a11f4b70da61ea7fb6883f38fdd0629"
   },
   "outputs": [
    {
     "name": "stdout",
     "output_type": "stream",
     "text": [
      "Correlated features which are dropped: ['tamhog', 'hhsize', 'hogar_total', 'SQBage', 'SQBhogar_total', 'agesq']\n"
     ]
    }
   ],
   "source": [
    "def featuresToDrop(corrMatrix):\n",
    "    \"\"\"\n",
    "    To remove correlated features, used this gem of a code from here:\n",
    "    https://chrisalbon.com/machine_learning/feature_selection/drop_highly_correlated_features\n",
    "    \"\"\"\n",
    "    # Select upper triangle of correlation matrix\n",
    "    upper = corrMatrix.where(np.triu(np.ones(corrMatrix.shape), k=1).astype(np.bool))\n",
    "\n",
    "    # Find index of feature columns with correlation greater than 0.95\n",
    "    return [column for column in upper.columns if any(upper[column] > 0.95)]\n",
    "\n",
    "toDrop = featuresToDrop(corrMat)\n",
    "data.drop(toDrop, inplace=True, axis=1)\n",
    "print(\"Correlated features which are dropped: {}\".format(toDrop))"
   ]
  },
  {
   "cell_type": "markdown",
   "metadata": {
    "_uuid": "743c8b16abb49187c1cd5a3de35c0a219a027e1c"
   },
   "source": [
    "### 5. Feature engineering\n",
    "Definition: \"Feature engineering is the process of using domain knowledge of the data to create features that make machine learning algorithms work.\"\n",
    "\n",
    "#### 5.1 Add aggregated features (min, max, std, sum)"
   ]
  },
  {
   "cell_type": "code",
   "execution_count": 49,
   "metadata": {
    "_uuid": "57c7160f6f6c04ac946c8880b2d1cf2b4a9c4bce"
   },
   "outputs": [
    {
     "name": "stdout",
     "output_type": "stream",
     "text": [
      "Training feature shape:  (33413, 525)\n"
     ]
    }
   ],
   "source": [
    "features = list(data.drop(columns = ['Id', 'idhogar', 'Target']).columns)\n",
    "aggDf = data.drop(columns='Target').groupby('idhogar').agg(['min', 'max', 'sum', 'count', 'std'])\n",
    "# Rename the columns\n",
    "new_col = []\n",
    "for c in aggDf.columns.levels[0]:\n",
    "    for stat in aggDf.columns.levels[1]:\n",
    "        new_col.append('{}-{}'.format(c, stat))\n",
    "        \n",
    "aggDf.columns = new_col\n",
    "toDrop = featuresToDrop(aggDf.corr())\n",
    "aggDf.drop(toDrop, inplace=True, axis=1)\n",
    "data = data.merge(aggDf, on='idhogar', how ='left')\n",
    "print('Training feature shape: ', data.shape)"
   ]
  },
  {
   "cell_type": "markdown",
   "metadata": {},
   "source": [
    "#### 5.2 Add features per household"
   ]
  },
  {
   "cell_type": "code",
   "execution_count": 50,
   "metadata": {
    "_uuid": "60d0e5193fba6d15f6e2f741d2cac6733029bd51"
   },
   "outputs": [],
   "source": [
    "data['phones-per-capita'] = data['qmobilephone'] / data['tamviv']\n",
    "data['tablets-per-capita'] = data['v18q1'] / data['tamviv']\n",
    "data['rooms-per-capita'] = data['rooms'] / data['tamviv']\n",
    "data['rent-per-capita'] = data['v2a1'] / data['tamviv']"
   ]
  },
  {
   "cell_type": "markdown",
   "metadata": {
    "_uuid": "267c96d16a7b8f5f766d76a6e1f1cd2e9140098b"
   },
   "source": [
    "### 6. Feature imputing and scaling\n",
    "Scaling means to transform data in such a way that they fit within a range say 0-100 or 0-1. We will be using min-max scaler to transform the feature to be in the range 0-1."
   ]
  },
  {
   "cell_type": "code",
   "execution_count": 51,
   "metadata": {
    "_uuid": "e69be8df35b32f9c9370345458db21e82ccfb3dc"
   },
   "outputs": [],
   "source": [
    "# Labels for training\n",
    "trainTarget = np.array(list(data[data['Target'].notnull()]['Target'].astype(np.uint8)))\n",
    "submission = data.loc[data['Target'].isnull(), 'Id'].to_frame()\n",
    "\n",
    "# Extract the training data\n",
    "trainData = data[data['Target'].notnull()].drop(columns = ['Id', 'idhogar', 'Target'])\n",
    "testData = data[data['Target'].isnull()].drop(columns = ['Id', 'idhogar', 'Target'])\n",
    "\n",
    "# Impute training and test data\n",
    "imputer = SimpleImputer(missing_values=np.nan, strategy='median')\n",
    "trainData = imputer.fit_transform(trainData)\n",
    "testData = imputer.transform(testData)\n",
    "\n",
    "# Scale training and test data\n",
    "scaler = MinMaxScaler()\n",
    "trainData = scaler.fit_transform(trainData)\n",
    "testData = scaler.transform(testData)"
   ]
  },
  {
   "cell_type": "markdown",
   "metadata": {
    "_uuid": "4ce01c3c25b38413d4b3bf017a2d01f696e0203a"
   },
   "source": [
    "### 7. Machine Learning model\n",
    "\n",
    "#### 7.1 Random Forest Classifier"
   ]
  },
  {
   "cell_type": "code",
   "execution_count": 52,
   "metadata": {
    "_uuid": "b8bec4752228893f2fbfaf8fc3699b997f26bd1d"
   },
   "outputs": [
    {
     "name": "stdout",
     "output_type": "stream",
     "text": [
      "10 Fold Cross Validation F1 Score = 0.335 with std = 0.0356\n"
     ]
    }
   ],
   "source": [
    "import lightgbm\n",
    "\n",
    "from sklearn.ensemble import RandomForestClassifier\n",
    "from sklearn.model_selection import cross_val_score\n",
    "from sklearn.metrics import f1_score, make_scorer\n",
    "from sklearn.model_selection import StratifiedKFold\n",
    "\n",
    "model = RandomForestClassifier(n_estimators=100, random_state=10, \n",
    "                               n_jobs = -1)\n",
    "scorer = make_scorer(f1_score, greater_is_better=True, average = 'macro')\n",
    "# 10 fold cross validation\n",
    "cv_score = cross_val_score(model, trainData, trainTarget, cv=10, scoring=scorer)\n",
    "print('10 Fold Cross Validation F1 Score = {} with std = {}'.format(round(cv_score.mean(), 4), round(cv_score.std(), 4)))"
   ]
  },
  {
   "cell_type": "markdown",
   "metadata": {},
   "source": [
    "#### 7.2 Random Forest Classifier\n",
    "This extends the random forest classifier used above. It uses tratified K-Folds cross-validation, since this problem has imbalance in the target label."
   ]
  },
  {
   "cell_type": "code",
   "execution_count": 53,
   "metadata": {
    "_uuid": "4bf4267aef6a57bbe3b84d63166e7a0629a7805a"
   },
   "outputs": [
    {
     "name": "stdout",
     "output_type": "stream",
     "text": [
      "Fold: 1\n",
      "Fold: 2\n",
      "Fold: 3\n",
      "Fold: 4\n",
      "Fold: 5\n"
     ]
    }
   ],
   "source": [
    "kfold = 5\n",
    "kf = StratifiedKFold(n_splits=kfold, shuffle=True)\n",
    "model = RandomForestClassifier(n_estimators=100, random_state=10, \n",
    "                               n_jobs = -1)\n",
    "predicts_result = []\n",
    "for idx, (train_index, test_index) in enumerate(kf.split(trainData, trainTarget)):\n",
    "    print(\"Fold: {}\".format(idx + 1))\n",
    "    X_train, X_val = trainData[train_index], trainData[test_index]\n",
    "    y_train, y_val = trainTarget[train_index], trainTarget[test_index]\n",
    "    model.fit(X_train, y_train)\n",
    "    predicts_result.append(model.predict(testData))\n",
    "submission['Target'] = np.array(predicts_result).mean(axis=0).round().astype(int)\n",
    "submission.to_csv('submission.csv', index=False)"
   ]
  },
  {
   "cell_type": "code",
   "execution_count": 54,
   "metadata": {
    "_uuid": "d5e6bfd7d4f1ac1ad88cceac25a06b4456295931"
   },
   "outputs": [
    {
     "name": "stdout",
     "output_type": "stream",
     "text": [
      "Fold: 1\n",
      "Fold: 2\n",
      "Fold: 3\n",
      "Fold: 4\n",
      "Fold: 5\n",
      "Completed!\n"
     ]
    }
   ],
   "source": [
    "model = lightgbm.LGBMClassifier(max_depth=-1, learning_rate=0.1, objective='multiclass',\n",
    "                             random_state=None, silent=True, metric='None', \n",
    "                             n_jobs=4, n_estimators=5000, class_weight='balanced',\n",
    "                             colsample_bytree =  0.93, min_child_samples = 95, num_leaves = 14, subsample = 0.96)\n",
    "kfold = 5\n",
    "kf = StratifiedKFold(n_splits=kfold, shuffle=True)\n",
    "\n",
    "predicts_result = []\n",
    "for idx, (train_index, test_index) in enumerate(kf.split(trainData, trainTarget)):\n",
    "    print(\"Fold: {}\".format(idx + 1))\n",
    "    X_train, X_val = trainData[train_index], trainData[test_index]\n",
    "    y_train, y_val = trainTarget[train_index], trainTarget[test_index]\n",
    "    model.fit(X_train, y_train, verbose=100)\n",
    "    predicts_result.append(model.predict(testData))\n",
    "submission['Target'] = np.array(predicts_result).mean(axis=0).round().astype(int)\n",
    "submission.to_csv('submission.csv', index=False)\n",
    "print(\"Completed!\")"
   ]
  },
  {
   "cell_type": "markdown",
   "metadata": {},
   "source": [
    "This kernel produces a score of 0.411 (macro f1), which would have given a rank of 214-215 on Kaggle leaderboard for this competition. Kaggle notebook can be found here: https://www.kaggle.com/akverma/costa-rican-poverty-analysis"
   ]
  }
 ],
 "metadata": {
  "kernelspec": {
   "display_name": "Python 3",
   "language": "python",
   "name": "python3"
  },
  "language_info": {
   "codemirror_mode": {
    "name": "ipython",
    "version": 3
   },
   "file_extension": ".py",
   "mimetype": "text/x-python",
   "name": "python",
   "nbconvert_exporter": "python",
   "pygments_lexer": "ipython3",
   "version": "3.5.4"
  }
 },
 "nbformat": 4,
 "nbformat_minor": 1
}
